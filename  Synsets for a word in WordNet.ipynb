{
 "cells": [
  {
   "cell_type": "code",
   "execution_count": 1,
   "id": "8e3a08fa",
   "metadata": {},
   "outputs": [],
   "source": [
    "import nltk \n",
    "from nltk.corpus import wordnet "
   ]
  },
  {
   "cell_type": "markdown",
   "id": "83170a59",
   "metadata": {},
   "source": [
    "# WordNet is the lexical database\n",
    "# i.e.dictionary for the English language, specifically designed for natural language processing."
   ]
  },
  {
   "cell_type": "markdown",
   "id": "db371aa4",
   "metadata": {},
   "source": [
    "Synset is a special kind of a simple interface that is present in NLTK to look up words in WordNet. \n",
    "Synset instances are the groupings of synonymous words that express the same concept"
   ]
  },
  {
   "cell_type": "code",
   "execution_count": 41,
   "id": "536824d5",
   "metadata": {},
   "outputs": [
    {
     "name": "stdout",
     "output_type": "stream",
     "text": [
      "synset name: greeting.n.01\n",
      "lemmatized : [Lemma('greeting.n.01.greeting'), Lemma('greeting.n.01.salutation')]\n",
      "definition : (usually plural) an acknowledgment or expression of good will (especially on meeting)\n",
      "example : []\n"
     ]
    }
   ],
   "source": [
    "syn = wordnet.synsets('Greetings')[0]\n",
    "\n",
    "\n",
    "print('synset name:', syn.name())\n",
    "print('lemmatized :', syn.lemmas())\n",
    "print('definition :', syn.definition())\n",
    "print('example :', syn.examples())"
   ]
  },
  {
   "cell_type": "code",
   "execution_count": 39,
   "id": "085ee51f",
   "metadata": {},
   "outputs": [],
   "source": [
    "# word = 'continous'\n",
    "syn = wordnet.synsets('running')[0]"
   ]
  },
  {
   "cell_type": "code",
   "execution_count": 42,
   "id": "9a186841",
   "metadata": {},
   "outputs": [
    {
     "name": "stdout",
     "output_type": "stream",
     "text": [
      "synset name : greeting.n.01\n",
      "lemmatized : [Lemma('greeting.n.01.greeting'), Lemma('greeting.n.01.salutation')]\n",
      "definition : (usually plural) an acknowledgment or expression of good will (especially on meeting)\n",
      "example : []\n"
     ]
    }
   ],
   "source": [
    "print('synset name :', syn.name())\n",
    "print('lemmatized :', syn.lemmas())\n",
    "print('definition :', syn.definition())\n",
    "print('example :', syn.examples())\n"
   ]
  },
  {
   "cell_type": "code",
   "execution_count": 43,
   "id": "61911c81",
   "metadata": {},
   "outputs": [
    {
     "name": "stdout",
     "output_type": "stream",
     "text": [
      "name : hello.n.01\n",
      "lemmas : [Lemma('hello.n.01.hello'), Lemma('hello.n.01.hullo'), Lemma('hello.n.01.hi'), Lemma('hello.n.01.howdy'), Lemma('hello.n.01.how-do-you-do')]\n",
      "definition : an expression of greeting\n",
      "examples : ['every morning they exchanged polite hellos']\n"
     ]
    }
   ],
   "source": [
    "syn = wordnet.synsets('Hi')[0]\n",
    "print('name :', syn.name())\n",
    "print('lemmas :', syn.lemmas())\n",
    "print('definition :', syn.definition())\n",
    "print('examples :', syn.examples())\n"
   ]
  },
  {
   "cell_type": "code",
   "execution_count": 47,
   "id": "a3efb01c",
   "metadata": {},
   "outputs": [
    {
     "name": "stdout",
     "output_type": "stream",
     "text": [
      "name : aid.n.02\n",
      "lemmas : [Lemma('aid.n.02.aid'), Lemma('aid.n.02.assist'), Lemma('aid.n.02.assistance'), Lemma('aid.n.02.help')]\n",
      "definition : the activity of contributing to the fulfillment of a need or furtherance of an effort or purpose\n",
      "examples : ['he gave me an assist with the housework', 'could not walk without assistance', 'rescue party went to their aid', 'offered his help in unloading']\n"
     ]
    }
   ],
   "source": [
    "syn = wordnet.synsets('help')[0]\n",
    "print('name :', syn.name())\n",
    "print('lemmas :', syn.lemmas())\n",
    "print('definition :', syn.definition())\n",
    "print('examples :', syn.examples())\n"
   ]
  },
  {
   "cell_type": "code",
   "execution_count": null,
   "id": "fc1a7dfc",
   "metadata": {},
   "outputs": [],
   "source": []
  }
 ],
 "metadata": {
  "kernelspec": {
   "display_name": "Python 3",
   "language": "python",
   "name": "python3"
  },
  "language_info": {
   "codemirror_mode": {
    "name": "ipython",
    "version": 3
   },
   "file_extension": ".py",
   "mimetype": "text/x-python",
   "name": "python",
   "nbconvert_exporter": "python",
   "pygments_lexer": "ipython3",
   "version": "3.8.8"
  }
 },
 "nbformat": 4,
 "nbformat_minor": 5
}
