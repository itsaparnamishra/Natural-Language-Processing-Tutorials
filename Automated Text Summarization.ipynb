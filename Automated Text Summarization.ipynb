{
 "cells": [
  {
   "cell_type": "markdown",
   "id": "bf1b747b",
   "metadata": {},
   "source": [
    "# Example 1 "
   ]
  },
  {
   "cell_type": "code",
   "execution_count": 41,
   "id": "080092d4",
   "metadata": {},
   "outputs": [],
   "source": [
    "text = '''Yoga develops inner awareness. It focuses your attention on your body's abilities at the present moment.It helps develop breath and strength of mind and body. It's not about physical appearance.Yoga studios typically don't have mirrors. This is so people can focus their awareness inward rather than how a pose — or the people around them — looks.\n",
    "Surveys have found that those who practiced yoga were more aware of their bodies than people who didn't practice yoga.They were also more satisfied with and less critical of their bodies. For these reasons, yoga has become an integral part in the treatment of eating disorders and programs that promote positive body image and self-esteem.\n",
    "'''"
   ]
  },
  {
   "cell_type": "code",
   "execution_count": 42,
   "id": "6b20e1ba",
   "metadata": {},
   "outputs": [
    {
     "data": {
      "text/plain": [
       "688"
      ]
     },
     "execution_count": 42,
     "metadata": {},
     "output_type": "execute_result"
    }
   ],
   "source": [
    "# checking the length of sentences \n",
    "len(text)"
   ]
  },
  {
   "cell_type": "code",
   "execution_count": 43,
   "id": "7a724987",
   "metadata": {},
   "outputs": [],
   "source": [
    "# importing the important libraries \n",
    "\n",
    "import spacy \n",
    "from spacy.lang.en.stop_words import STOP_WORDS\n",
    "from string import punctuation "
   ]
  },
  {
   "cell_type": "code",
   "execution_count": 44,
   "id": "3319001f",
   "metadata": {},
   "outputs": [],
   "source": [
    "nlp = spacy.load('en_core_web_sm')"
   ]
  },
  {
   "cell_type": "code",
   "execution_count": 45,
   "id": "6c1e890d",
   "metadata": {},
   "outputs": [
    {
     "data": {
      "text/plain": [
       "Yoga develops inner awareness. It focuses your attention on your body's abilities at the present moment.It helps develop breath and strength of mind and body. It's not about physical appearance.Yoga studios typically don't have mirrors. This is so people can focus their awareness inward rather than how a pose — or the people around them — looks.\n",
       "Surveys have found that those who practiced yoga were more aware of their bodies than people who didn't practice yoga.They were also more satisfied with and less critical of their bodies. For these reasons, yoga has become an integral part in the treatment of eating disorders and programs that promote positive body image and self-esteem."
      ]
     },
     "execution_count": 45,
     "metadata": {},
     "output_type": "execute_result"
    }
   ],
   "source": [
    "doc = nlp(text)\n",
    "doc"
   ]
  },
  {
   "cell_type": "code",
   "execution_count": 46,
   "id": "3e68744a",
   "metadata": {},
   "outputs": [
    {
     "data": {
      "text/plain": [
       "['Yoga',\n",
       " 'develops',\n",
       " 'inner',\n",
       " 'awareness',\n",
       " '.',\n",
       " 'It',\n",
       " 'focuses',\n",
       " 'your',\n",
       " 'attention',\n",
       " 'on',\n",
       " 'your',\n",
       " 'body',\n",
       " \"'s\",\n",
       " 'abilities',\n",
       " 'at',\n",
       " 'the',\n",
       " 'present',\n",
       " 'moment',\n",
       " '.',\n",
       " 'It',\n",
       " 'helps',\n",
       " 'develop',\n",
       " 'breath',\n",
       " 'and',\n",
       " 'strength',\n",
       " 'of',\n",
       " 'mind',\n",
       " 'and',\n",
       " 'body',\n",
       " '.',\n",
       " 'It',\n",
       " \"'s\",\n",
       " 'not',\n",
       " 'about',\n",
       " 'physical',\n",
       " 'appearance',\n",
       " '.',\n",
       " 'Yoga',\n",
       " 'studios',\n",
       " 'typically',\n",
       " 'do',\n",
       " \"n't\",\n",
       " 'have',\n",
       " 'mirrors',\n",
       " '.',\n",
       " 'This',\n",
       " 'is',\n",
       " 'so',\n",
       " 'people',\n",
       " 'can',\n",
       " 'focus',\n",
       " 'their',\n",
       " 'awareness',\n",
       " 'inward',\n",
       " 'rather',\n",
       " 'than',\n",
       " 'how',\n",
       " 'a',\n",
       " 'pose',\n",
       " '—',\n",
       " 'or',\n",
       " 'the',\n",
       " 'people',\n",
       " 'around',\n",
       " 'them',\n",
       " '—',\n",
       " 'looks',\n",
       " '.',\n",
       " '\\n',\n",
       " 'Surveys',\n",
       " 'have',\n",
       " 'found',\n",
       " 'that',\n",
       " 'those',\n",
       " 'who',\n",
       " 'practiced',\n",
       " 'yoga',\n",
       " 'were',\n",
       " 'more',\n",
       " 'aware',\n",
       " 'of',\n",
       " 'their',\n",
       " 'bodies',\n",
       " 'than',\n",
       " 'people',\n",
       " 'who',\n",
       " 'did',\n",
       " \"n't\",\n",
       " 'practice',\n",
       " 'yoga',\n",
       " '.',\n",
       " 'They',\n",
       " 'were',\n",
       " 'also',\n",
       " 'more',\n",
       " 'satisfied',\n",
       " 'with',\n",
       " 'and',\n",
       " 'less',\n",
       " 'critical',\n",
       " 'of',\n",
       " 'their',\n",
       " 'bodies',\n",
       " '.',\n",
       " 'For',\n",
       " 'these',\n",
       " 'reasons',\n",
       " ',',\n",
       " 'yoga',\n",
       " 'has',\n",
       " 'become',\n",
       " 'an',\n",
       " 'integral',\n",
       " 'part',\n",
       " 'in',\n",
       " 'the',\n",
       " 'treatment',\n",
       " 'of',\n",
       " 'eating',\n",
       " 'disorders',\n",
       " 'and',\n",
       " 'programs',\n",
       " 'that',\n",
       " 'promote',\n",
       " 'positive',\n",
       " 'body',\n",
       " 'image',\n",
       " 'and',\n",
       " 'self',\n",
       " '-',\n",
       " 'esteem',\n",
       " '.',\n",
       " '\\n']"
      ]
     },
     "execution_count": 46,
     "metadata": {},
     "output_type": "execute_result"
    }
   ],
   "source": [
    "tokens = [token.text for token in doc]\n",
    "tokens"
   ]
  },
  {
   "cell_type": "code",
   "execution_count": 47,
   "id": "4974e18d",
   "metadata": {},
   "outputs": [
    {
     "data": {
      "text/plain": [
       "'!\"#$%&\\'()*+,-./:;<=>?@[\\\\]^_`{|}~\\n                 '"
      ]
     },
     "execution_count": 47,
     "metadata": {},
     "output_type": "execute_result"
    }
   ],
   "source": [
    "#adding extra punctuation - '\\n                 '\n",
    "\n",
    "punctuation = punctuation + '\\n                 '\n",
    "punctuation"
   ]
  },
  {
   "cell_type": "markdown",
   "id": "62d917da",
   "metadata": {},
   "source": [
    "# text preprocessing and cleaning"
   ]
  },
  {
   "cell_type": "code",
   "execution_count": 48,
   "id": "e4b69158",
   "metadata": {},
   "outputs": [],
   "source": [
    "\n",
    "word_freq = {}\n",
    "stop_words = list(STOP_WORDS )\n",
    "\n",
    "for word in doc:\n",
    "    if word.text.lower() not in stop_words:\n",
    "        if word.text.lower() not in punctuation:\n",
    "            if word.text not in word_freq.keys():\n",
    "                word_freq[word.text] = 1\n",
    "            else:\n",
    "                word_freq[word.text] += 1"
   ]
  },
  {
   "cell_type": "code",
   "execution_count": 24,
   "id": "6f18eef7",
   "metadata": {},
   "outputs": [
    {
     "name": "stdout",
     "output_type": "stream",
     "text": [
      "{'Yoga': 2, 'develops': 1, 'inner': 1, 'awareness': 2, 'focuses': 1, 'attention': 1, 'body': 3, 'abilities': 1, 'present': 1, 'moment': 1, 'helps': 1, 'develop': 1, 'breath': 1, 'strength': 1, 'mind': 1, 'physical': 1, 'appearance': 1, 'studios': 1, 'typically': 1, 'mirrors': 1, 'people': 3, 'focus': 1, 'inward': 1, 'pose': 1, '—': 2, 'looks': 1, 'Surveys': 1, 'found': 1, 'practiced': 1, 'yoga': 3, 'aware': 1, 'bodies': 2, 'practice': 1, 'satisfied': 1, 'critical': 1, 'reasons': 1, 'integral': 1, 'treatment': 1, 'eating': 1, 'disorders': 1, 'programs': 1, 'promote': 1, 'positive': 1, 'image': 1, 'self': 1, 'esteem': 1}\n"
     ]
    }
   ],
   "source": [
    "print(word_freq)"
   ]
  },
  {
   "cell_type": "code",
   "execution_count": 63,
   "id": "620c0511",
   "metadata": {},
   "outputs": [],
   "source": [
    "# for i in word_freq.keys():\n",
    "#     print(word_freq[i])"
   ]
  },
  {
   "cell_type": "code",
   "execution_count": 50,
   "id": "d81c62e0",
   "metadata": {},
   "outputs": [
    {
     "data": {
      "text/plain": [
       "3"
      ]
     },
     "execution_count": 50,
     "metadata": {},
     "output_type": "execute_result"
    }
   ],
   "source": [
    "max(word_freq.values())"
   ]
  },
  {
   "cell_type": "code",
   "execution_count": 51,
   "id": "51c81678",
   "metadata": {},
   "outputs": [
    {
     "name": "stdout",
     "output_type": "stream",
     "text": [
      "{'Yoga': 0.6666666666666666, 'develops': 0.3333333333333333, 'inner': 0.3333333333333333, 'awareness': 0.6666666666666666, 'focuses': 0.3333333333333333, 'attention': 0.3333333333333333, 'body': 1.0, 'abilities': 0.3333333333333333, 'present': 0.3333333333333333, 'moment': 0.3333333333333333, 'helps': 0.3333333333333333, 'develop': 0.3333333333333333, 'breath': 0.3333333333333333, 'strength': 0.3333333333333333, 'mind': 0.3333333333333333, 'physical': 0.3333333333333333, 'appearance': 0.3333333333333333, 'studios': 0.3333333333333333, 'typically': 0.3333333333333333, 'mirrors': 0.3333333333333333, 'people': 1.0, 'focus': 0.3333333333333333, 'inward': 0.3333333333333333, 'pose': 0.3333333333333333, '—': 0.6666666666666666, 'looks': 0.3333333333333333, 'Surveys': 0.3333333333333333, 'found': 0.3333333333333333, 'practiced': 0.3333333333333333, 'yoga': 1.0, 'aware': 0.5, 'bodies': 1.0, 'practice': 1.0, 'satisfied': 1.0, 'critical': 1.0, 'reasons': 1.0, 'integral': 1.0, 'treatment': 1.0, 'eating': 1.0, 'disorders': 1.0, 'programs': 1.0, 'promote': 1.0, 'positive': 1.0, 'image': 1.0, 'self': 1.0, 'esteem': 1.0}\n"
     ]
    }
   ],
   "source": [
    "# normalizing the frequency counts\n",
    "\n",
    "for word in word_freq.keys():\n",
    "    word_freq[word] = word_freq[word] / max(word_freq.values())\n",
    "\n",
    "    \n",
    "#we get the normalized frequency values\n",
    "print(word_freq)"
   ]
  },
  {
   "cell_type": "markdown",
   "id": "ef9a91bf",
   "metadata": {},
   "source": [
    "# sentence tokenization "
   ]
  },
  {
   "cell_type": "code",
   "execution_count": 52,
   "id": "c7bcae07",
   "metadata": {},
   "outputs": [
    {
     "data": {
      "text/plain": [
       "[Yoga develops inner awareness.,\n",
       " It focuses your attention on your body's abilities at the present moment.,\n",
       " It helps develop breath and strength of mind and body.,\n",
       " It's not about physical appearance.,\n",
       " Yoga studios typically don't have mirrors.,\n",
       " This is so people can focus their awareness inward rather than how a pose — or the people around them — looks.,\n",
       " \n",
       " Surveys have found that those who practiced yoga were more aware of their bodies than people who didn't practice yoga.,\n",
       " They were also more satisfied with and less critical of their bodies.,\n",
       " For these reasons, yoga has become an integral part in the treatment of eating disorders and programs that promote positive body image and self-esteem.,\n",
       " ]"
      ]
     },
     "execution_count": 52,
     "metadata": {},
     "output_type": "execute_result"
    }
   ],
   "source": [
    "sent_tokens = [sent for sent in doc.sents]\n",
    "sent_tokens"
   ]
  },
  {
   "cell_type": "code",
   "execution_count": 53,
   "id": "3bd01b14",
   "metadata": {},
   "outputs": [],
   "source": [
    "sent_score = {}\n",
    "\n",
    "for sent in sent_tokens:\n",
    "    for word in sent:\n",
    "        if word.text.lower() in word_freq.keys():\n",
    "            if sent not in sent_score.keys():\n",
    "                sent_score[sent] = word_freq[word.text.lower()]\n",
    "            else:\n",
    "                sent_score[sent] += word_freq[word.text.lower()]\n",
    "            \n"
   ]
  },
  {
   "cell_type": "code",
   "execution_count": 54,
   "id": "ea8e8bc1",
   "metadata": {},
   "outputs": [
    {
     "name": "stdout",
     "output_type": "stream",
     "text": [
      "{Yoga develops inner awareness.: 2.333333333333333, It focuses your attention on your body's abilities at the present moment.: 2.6666666666666665, It helps develop breath and strength of mind and body.: 2.6666666666666665, It's not about physical appearance.: 0.6666666666666666, Yoga studios typically don't have mirrors.: 1.9999999999999998, This is so people can focus their awareness inward rather than how a pose — or the people around them — looks.: 5.333333333333334, \n",
      "Surveys have found that those who practiced yoga were more aware of their bodies than people who didn't practice yoga.: 6.166666666666666, They were also more satisfied with and less critical of their bodies.: 3.0, For these reasons, yoga has become an integral part in the treatment of eating disorders and programs that promote positive body image and self-esteem.: 13.0}\n"
     ]
    }
   ],
   "source": [
    "print(sent_score)"
   ]
  },
  {
   "cell_type": "markdown",
   "id": "e4ccf80e",
   "metadata": {},
   "source": [
    "# selecting 30% sentences with maximum score "
   ]
  },
  {
   "cell_type": "code",
   "execution_count": 55,
   "id": "b326b439",
   "metadata": {},
   "outputs": [],
   "source": [
    "from heapq import nlargest "
   ]
  },
  {
   "cell_type": "code",
   "execution_count": 56,
   "id": "56305cda",
   "metadata": {},
   "outputs": [
    {
     "data": {
      "text/plain": [
       "2.6999999999999997"
      ]
     },
     "execution_count": 56,
     "metadata": {},
     "output_type": "execute_result"
    }
   ],
   "source": [
    "len(sent_score) * 0.3"
   ]
  },
  {
   "cell_type": "code",
   "execution_count": 57,
   "id": "82e0de46",
   "metadata": {},
   "outputs": [
    {
     "data": {
      "text/plain": [
       "[For these reasons, yoga has become an integral part in the treatment of eating disorders and programs that promote positive body image and self-esteem.,\n",
       " \n",
       " Surveys have found that those who practiced yoga were more aware of their bodies than people who didn't practice yoga.,\n",
       " This is so people can focus their awareness inward rather than how a pose — or the people around them — looks.]"
      ]
     },
     "execution_count": 57,
     "metadata": {},
     "output_type": "execute_result"
    }
   ],
   "source": [
    "summary = nlargest(n = 3 , iterable = sent_score , key = sent_score.get)\n",
    "summary"
   ]
  },
  {
   "cell_type": "code",
   "execution_count": 58,
   "id": "8121db02",
   "metadata": {},
   "outputs": [
    {
     "data": {
      "text/plain": [
       "['For these reasons, yoga has become an integral part in the treatment of eating disorders and programs that promote positive body image and self-esteem.',\n",
       " \"\\nSurveys have found that those who practiced yoga were more aware of their bodies than people who didn't practice yoga.\",\n",
       " 'This is so people can focus their awareness inward rather than how a pose — or the people around them — looks.']"
      ]
     },
     "execution_count": 58,
     "metadata": {},
     "output_type": "execute_result"
    }
   ],
   "source": [
    "final_summary = [word.text for word in summary]\n",
    "final_summary"
   ]
  },
  {
   "cell_type": "code",
   "execution_count": 59,
   "id": "ce1c908b",
   "metadata": {},
   "outputs": [
    {
     "data": {
      "text/plain": [
       "\"For these reasons, yoga has become an integral part in the treatment of eating disorders and programs that promote positive body image and self-esteem. \\nSurveys have found that those who practiced yoga were more aware of their bodies than people who didn't practice yoga. This is so people can focus their awareness inward rather than how a pose — or the people around them — looks.\""
      ]
     },
     "execution_count": 59,
     "metadata": {},
     "output_type": "execute_result"
    }
   ],
   "source": [
    "\" \".join(final_summary)\n"
   ]
  },
  {
   "cell_type": "markdown",
   "id": "37d2e1bc",
   "metadata": {},
   "source": [
    "# Example 2 "
   ]
  },
  {
   "cell_type": "code",
   "execution_count": 69,
   "id": "f2c48607",
   "metadata": {},
   "outputs": [],
   "source": [
    "text = '''Today, Yoga is a practise that has gained global recognition and has become a fad. And while it is great that importance of yoga in our life has finally got everyone’s attention, do we really know the true essence and benefits of this ancient Indian science?What is Yoga?The word yoga originates from the Sanskrit word ‘Yuj’ which means addition. Addition of energy, strength and beauty to the mind, body and soul. The Sanskrit sutra ‘Yog chitta vritti nirodha’ explains the true meaning of yoga, which is stilling the mind in order to attain tranquillity and move towards self-realization. This might sound a little too intense, but that’s the magic of yoga, it not only helps attain physical wellness but penetrates through the many layers of our being to heal the mind and soul.A yoga practitioner for the past 9 years and now a yoga coach, I am a staunch proponent of this magical practice only because I have experienced its healing powers. It would be difficult to put down the countless benefits of yoga in a few words, but I’m going to make a rather brave attempt at it, only with the thought that this might encourage people to adopt the yogic way of life.\n",
    "'''"
   ]
  },
  {
   "cell_type": "code",
   "execution_count": 70,
   "id": "db12ab02",
   "metadata": {},
   "outputs": [
    {
     "data": {
      "text/plain": [
       "1166"
      ]
     },
     "execution_count": 70,
     "metadata": {},
     "output_type": "execute_result"
    }
   ],
   "source": [
    "len(text)"
   ]
  },
  {
   "cell_type": "code",
   "execution_count": 71,
   "id": "36ca5e8c",
   "metadata": {},
   "outputs": [],
   "source": [
    "# importing important libraries \n",
    "import spacy \n",
    "from spacy.lang.en.stop_words import STOP_WORDS\n",
    "from string import punctuation "
   ]
  },
  {
   "cell_type": "code",
   "execution_count": 72,
   "id": "ef997413",
   "metadata": {},
   "outputs": [],
   "source": [
    "nlp = spacy.load('en_core_web_sm')"
   ]
  },
  {
   "cell_type": "code",
   "execution_count": 73,
   "id": "14ca4475",
   "metadata": {},
   "outputs": [
    {
     "data": {
      "text/plain": [
       "Today, Yoga is a practise that has gained global recognition and has become a fad. And while it is great that importance of yoga in our life has finally got everyone’s attention, do we really know the true essence and benefits of this ancient Indian science?What is Yoga?The word yoga originates from the Sanskrit word ‘Yuj’ which means addition. Addition of energy, strength and beauty to the mind, body and soul. The Sanskrit sutra ‘Yog chitta vritti nirodha’ explains the true meaning of yoga, which is stilling the mind in order to attain tranquillity and move towards self-realization. This might sound a little too intense, but that’s the magic of yoga, it not only helps attain physical wellness but penetrates through the many layers of our being to heal the mind and soul.A yoga practitioner for the past 9 years and now a yoga coach, I am a staunch proponent of this magical practice only because I have experienced its healing powers. It would be difficult to put down the countless benefits of yoga in a few words, but I’m going to make a rather brave attempt at it, only with the thought that this might encourage people to adopt the yogic way of life."
      ]
     },
     "execution_count": 73,
     "metadata": {},
     "output_type": "execute_result"
    }
   ],
   "source": [
    "doc = nlp(text)\n",
    "doc"
   ]
  },
  {
   "cell_type": "code",
   "execution_count": 74,
   "id": "03266ded",
   "metadata": {},
   "outputs": [
    {
     "data": {
      "text/plain": [
       "['Today',\n",
       " ',',\n",
       " 'Yoga',\n",
       " 'is',\n",
       " 'a',\n",
       " 'practise',\n",
       " 'that',\n",
       " 'has',\n",
       " 'gained',\n",
       " 'global',\n",
       " 'recognition',\n",
       " 'and',\n",
       " 'has',\n",
       " 'become',\n",
       " 'a',\n",
       " 'fad',\n",
       " '.',\n",
       " 'And',\n",
       " 'while',\n",
       " 'it',\n",
       " 'is',\n",
       " 'great',\n",
       " 'that',\n",
       " 'importance',\n",
       " 'of',\n",
       " 'yoga',\n",
       " 'in',\n",
       " 'our',\n",
       " 'life',\n",
       " 'has',\n",
       " 'finally',\n",
       " 'got',\n",
       " 'everyone',\n",
       " '’s',\n",
       " 'attention',\n",
       " ',',\n",
       " 'do',\n",
       " 'we',\n",
       " 'really',\n",
       " 'know',\n",
       " 'the',\n",
       " 'true',\n",
       " 'essence',\n",
       " 'and',\n",
       " 'benefits',\n",
       " 'of',\n",
       " 'this',\n",
       " 'ancient',\n",
       " 'Indian',\n",
       " 'science?What',\n",
       " 'is',\n",
       " 'Yoga?The',\n",
       " 'word',\n",
       " 'yoga',\n",
       " 'originates',\n",
       " 'from',\n",
       " 'the',\n",
       " 'Sanskrit',\n",
       " 'word',\n",
       " '‘',\n",
       " 'Yuj',\n",
       " '’',\n",
       " 'which',\n",
       " 'means',\n",
       " 'addition',\n",
       " '.',\n",
       " 'Addition',\n",
       " 'of',\n",
       " 'energy',\n",
       " ',',\n",
       " 'strength',\n",
       " 'and',\n",
       " 'beauty',\n",
       " 'to',\n",
       " 'the',\n",
       " 'mind',\n",
       " ',',\n",
       " 'body',\n",
       " 'and',\n",
       " 'soul',\n",
       " '.',\n",
       " 'The',\n",
       " 'Sanskrit',\n",
       " 'sutra',\n",
       " '‘',\n",
       " 'Yog',\n",
       " 'chitta',\n",
       " 'vritti',\n",
       " 'nirodha',\n",
       " '’',\n",
       " 'explains',\n",
       " 'the',\n",
       " 'true',\n",
       " 'meaning',\n",
       " 'of',\n",
       " 'yoga',\n",
       " ',',\n",
       " 'which',\n",
       " 'is',\n",
       " 'stilling',\n",
       " 'the',\n",
       " 'mind',\n",
       " 'in',\n",
       " 'order',\n",
       " 'to',\n",
       " 'attain',\n",
       " 'tranquillity',\n",
       " 'and',\n",
       " 'move',\n",
       " 'towards',\n",
       " 'self',\n",
       " '-',\n",
       " 'realization',\n",
       " '.',\n",
       " 'This',\n",
       " 'might',\n",
       " 'sound',\n",
       " 'a',\n",
       " 'little',\n",
       " 'too',\n",
       " 'intense',\n",
       " ',',\n",
       " 'but',\n",
       " 'that',\n",
       " '’s',\n",
       " 'the',\n",
       " 'magic',\n",
       " 'of',\n",
       " 'yoga',\n",
       " ',',\n",
       " 'it',\n",
       " 'not',\n",
       " 'only',\n",
       " 'helps',\n",
       " 'attain',\n",
       " 'physical',\n",
       " 'wellness',\n",
       " 'but',\n",
       " 'penetrates',\n",
       " 'through',\n",
       " 'the',\n",
       " 'many',\n",
       " 'layers',\n",
       " 'of',\n",
       " 'our',\n",
       " 'being',\n",
       " 'to',\n",
       " 'heal',\n",
       " 'the',\n",
       " 'mind',\n",
       " 'and',\n",
       " 'soul',\n",
       " '.',\n",
       " 'A',\n",
       " 'yoga',\n",
       " 'practitioner',\n",
       " 'for',\n",
       " 'the',\n",
       " 'past',\n",
       " '9',\n",
       " 'years',\n",
       " 'and',\n",
       " 'now',\n",
       " 'a',\n",
       " 'yoga',\n",
       " 'coach',\n",
       " ',',\n",
       " 'I',\n",
       " 'am',\n",
       " 'a',\n",
       " 'staunch',\n",
       " 'proponent',\n",
       " 'of',\n",
       " 'this',\n",
       " 'magical',\n",
       " 'practice',\n",
       " 'only',\n",
       " 'because',\n",
       " 'I',\n",
       " 'have',\n",
       " 'experienced',\n",
       " 'its',\n",
       " 'healing',\n",
       " 'powers',\n",
       " '.',\n",
       " 'It',\n",
       " 'would',\n",
       " 'be',\n",
       " 'difficult',\n",
       " 'to',\n",
       " 'put',\n",
       " 'down',\n",
       " 'the',\n",
       " 'countless',\n",
       " 'benefits',\n",
       " 'of',\n",
       " 'yoga',\n",
       " 'in',\n",
       " 'a',\n",
       " 'few',\n",
       " 'words',\n",
       " ',',\n",
       " 'but',\n",
       " 'I',\n",
       " '’m',\n",
       " 'going',\n",
       " 'to',\n",
       " 'make',\n",
       " 'a',\n",
       " 'rather',\n",
       " 'brave',\n",
       " 'attempt',\n",
       " 'at',\n",
       " 'it',\n",
       " ',',\n",
       " 'only',\n",
       " 'with',\n",
       " 'the',\n",
       " 'thought',\n",
       " 'that',\n",
       " 'this',\n",
       " 'might',\n",
       " 'encourage',\n",
       " 'people',\n",
       " 'to',\n",
       " 'adopt',\n",
       " 'the',\n",
       " 'yogic',\n",
       " 'way',\n",
       " 'of',\n",
       " 'life',\n",
       " '.',\n",
       " '\\n']"
      ]
     },
     "execution_count": 74,
     "metadata": {},
     "output_type": "execute_result"
    }
   ],
   "source": [
    "tokens = [token.text for token in doc]\n",
    "tokens"
   ]
  },
  {
   "cell_type": "code",
   "execution_count": 75,
   "id": "cf98c042",
   "metadata": {},
   "outputs": [
    {
     "data": {
      "text/plain": [
       "'!\"#$%&\\'()*+,-./:;<=>?@[\\\\]^_`{|}~\\n                 '"
      ]
     },
     "execution_count": 75,
     "metadata": {},
     "output_type": "execute_result"
    }
   ],
   "source": [
    "#adding extra punctuation - '\\n'\n",
    "\n",
    "punctuation = punctuation + '\\n'\n",
    "punctuation"
   ]
  },
  {
   "cell_type": "markdown",
   "id": "99e294a9",
   "metadata": {},
   "source": [
    "# text preprocessing and cleaning\n"
   ]
  },
  {
   "cell_type": "code",
   "execution_count": 76,
   "id": "6837b1dc",
   "metadata": {},
   "outputs": [],
   "source": [
    "word_freq = {}\n",
    "stop_words = list(STOP_WORDS )\n",
    "\n",
    "for word in doc:\n",
    "    if word.text.lower() not in stop_words:\n",
    "        if word.text.lower() not in punctuation:\n",
    "            if word.text not in word_freq.keys():\n",
    "                word_freq[word.text] = 1\n",
    "            else:\n",
    "                word_freq[word.text] += 1"
   ]
  },
  {
   "cell_type": "code",
   "execution_count": 77,
   "id": "2cbcce33",
   "metadata": {},
   "outputs": [
    {
     "name": "stdout",
     "output_type": "stream",
     "text": [
      "{'Today': 1, 'Yoga': 1, 'practise': 1, 'gained': 1, 'global': 1, 'recognition': 1, 'fad': 1, 'great': 1, 'importance': 1, 'yoga': 7, 'life': 2, 'finally': 1, 'got': 1, 'attention': 1, 'know': 1, 'true': 2, 'essence': 1, 'benefits': 2, 'ancient': 1, 'Indian': 1, 'science?What': 1, 'Yoga?The': 1, 'word': 2, 'originates': 1, 'Sanskrit': 2, '‘': 2, 'Yuj': 1, '’': 2, 'means': 1, 'addition': 1, 'Addition': 1, 'energy': 1, 'strength': 1, 'beauty': 1, 'mind': 3, 'body': 1, 'soul': 2, 'sutra': 1, 'Yog': 1, 'chitta': 1, 'vritti': 1, 'nirodha': 1, 'explains': 1, 'meaning': 1, 'stilling': 1, 'order': 1, 'attain': 2, 'tranquillity': 1, 'self': 1, 'realization': 1, 'sound': 1, 'little': 1, 'intense': 1, 'magic': 1, 'helps': 1, 'physical': 1, 'wellness': 1, 'penetrates': 1, 'layers': 1, 'heal': 1, 'practitioner': 1, 'past': 1, '9': 1, 'years': 1, 'coach': 1, 'staunch': 1, 'proponent': 1, 'magical': 1, 'practice': 1, 'experienced': 1, 'healing': 1, 'powers': 1, 'difficult': 1, 'countless': 1, 'words': 1, 'going': 1, 'brave': 1, 'attempt': 1, 'thought': 1, 'encourage': 1, 'people': 1, 'adopt': 1, 'yogic': 1, 'way': 1}\n"
     ]
    }
   ],
   "source": [
    "print(word_freq)"
   ]
  },
  {
   "cell_type": "code",
   "execution_count": 87,
   "id": "c3be9f0c",
   "metadata": {},
   "outputs": [
    {
     "data": {
      "text/plain": [
       "7"
      ]
     },
     "execution_count": 87,
     "metadata": {},
     "output_type": "execute_result"
    }
   ],
   "source": [
    "max(word_freq.values())"
   ]
  },
  {
   "cell_type": "code",
   "execution_count": 90,
   "id": "603b713b",
   "metadata": {},
   "outputs": [
    {
     "name": "stdout",
     "output_type": "stream",
     "text": [
      "{'Today': 0.14285714285714285, 'Yoga': 0.14285714285714285, 'practise': 0.14285714285714285, 'gained': 0.14285714285714285, 'global': 0.14285714285714285, 'recognition': 0.14285714285714285, 'fad': 0.14285714285714285, 'great': 0.14285714285714285, 'importance': 0.14285714285714285, 'yoga': 1.0, 'life': 0.6666666666666666, 'finally': 0.3333333333333333, 'got': 0.3333333333333333, 'attention': 0.3333333333333333, 'know': 0.3333333333333333, 'true': 0.6666666666666666, 'essence': 0.3333333333333333, 'benefits': 0.6666666666666666, 'ancient': 0.3333333333333333, 'Indian': 0.3333333333333333, 'science?What': 0.3333333333333333, 'Yoga?The': 0.3333333333333333, 'word': 0.6666666666666666, 'originates': 0.3333333333333333, 'Sanskrit': 0.6666666666666666, '‘': 0.6666666666666666, 'Yuj': 0.3333333333333333, '’': 0.6666666666666666, 'means': 0.3333333333333333, 'addition': 0.3333333333333333, 'Addition': 0.3333333333333333, 'energy': 0.3333333333333333, 'strength': 0.3333333333333333, 'beauty': 0.3333333333333333, 'mind': 1.0, 'body': 0.5, 'soul': 1.0, 'sutra': 0.5, 'Yog': 0.5, 'chitta': 0.5, 'vritti': 0.5, 'nirodha': 0.5, 'explains': 0.5, 'meaning': 0.5, 'stilling': 0.5, 'order': 0.5, 'attain': 1.0, 'tranquillity': 1.0, 'self': 1.0, 'realization': 1.0, 'sound': 1.0, 'little': 1.0, 'intense': 1.0, 'magic': 1.0, 'helps': 1.0, 'physical': 1.0, 'wellness': 1.0, 'penetrates': 1.0, 'layers': 1.0, 'heal': 1.0, 'practitioner': 1.0, 'past': 1.0, '9': 1.0, 'years': 1.0, 'coach': 1.0, 'staunch': 1.0, 'proponent': 1.0, 'magical': 1.0, 'practice': 1.0, 'experienced': 1.0, 'healing': 1.0, 'powers': 1.0, 'difficult': 1.0, 'countless': 1.0, 'words': 1.0, 'going': 1.0, 'brave': 1.0, 'attempt': 1.0, 'thought': 1.0, 'encourage': 1.0, 'people': 1.0, 'adopt': 1.0, 'yogic': 1.0, 'way': 1.0}\n"
     ]
    }
   ],
   "source": [
    "# normalizing the word frequencies \n",
    "\n",
    "\n",
    "# for i in word_freq.keys():\n",
    "#     print(word_freq[i])\n",
    "\n",
    "\n",
    "\n",
    "for i in word_freq.keys():\n",
    "    word_freq[i] = word_freq[i] / max(word_freq.values())\n",
    "\n",
    "    \n",
    "#we get the normalized frequency values\n",
    "print(word_freq)"
   ]
  },
  {
   "cell_type": "markdown",
   "id": "abe483e9",
   "metadata": {},
   "source": [
    "# sentence tokenization "
   ]
  },
  {
   "cell_type": "code",
   "execution_count": 91,
   "id": "63768138",
   "metadata": {},
   "outputs": [
    {
     "data": {
      "text/plain": [
       "[Today, Yoga is a practise that has gained global recognition and has become a fad.,\n",
       " And while it is great that importance of yoga in our life has finally got everyone’s attention, do we really know the true essence and benefits of this ancient Indian science?What is Yoga?The word yoga originates from the Sanskrit word ‘Yuj’ which means addition.,\n",
       " Addition of energy, strength and beauty to the mind, body and soul.,\n",
       " The Sanskrit sutra ‘Yog chitta vritti nirodha’ explains the true meaning of yoga, which is stilling the mind in order to attain tranquillity and move towards self-realization.,\n",
       " This might sound a little too intense, but that’s the magic of yoga, it not only helps attain physical wellness but penetrates through the many layers of our being to heal the mind and soul.,\n",
       " A yoga practitioner for the past 9 years and now a yoga coach, I am a staunch proponent of this magical practice only because I have experienced its healing powers.,\n",
       " It would be difficult to put down the countless benefits of yoga in a few words, but I’m going to make a rather brave attempt at it, only with the thought that this might encourage people to adopt the yogic way of life.,\n",
       " ]"
      ]
     },
     "execution_count": 91,
     "metadata": {},
     "output_type": "execute_result"
    }
   ],
   "source": [
    "sent_tokens = [sent for sent in doc.sents]\n",
    "sent_tokens"
   ]
  },
  {
   "cell_type": "code",
   "execution_count": 92,
   "id": "2d5076b6",
   "metadata": {},
   "outputs": [],
   "source": [
    "sent_score = {}\n",
    "\n",
    "for sent in sent_tokens:\n",
    "    for word in sent:\n",
    "        if word.text.lower() in word_freq.keys():\n",
    "            if sent not in sent_score.keys():\n",
    "                sent_score[sent] = word_freq[word.text.lower()]\n",
    "            else:\n",
    "                sent_score[sent] += word_freq[word.text.lower()]\n",
    "            "
   ]
  },
  {
   "cell_type": "code",
   "execution_count": 95,
   "id": "35abf58a",
   "metadata": {},
   "outputs": [
    {
     "name": "stdout",
     "output_type": "stream",
     "text": [
      "{Today, Yoga is a practise that has gained global recognition and has become a fad.: 1.714285714285714, And while it is great that importance of yoga in our life has finally got everyone’s attention, do we really know the true essence and benefits of this ancient Indian science?What is Yoga?The word yoga originates from the Sanskrit word ‘Yuj’ which means addition.: 9.952380952380953, Addition of energy, strength and beauty to the mind, body and soul.: 3.833333333333333, The Sanskrit sutra ‘Yog chitta vritti nirodha’ explains the true meaning of yoga, which is stilling the mind in order to attain tranquillity and move towards self-realization.: 12.0, This might sound a little too intense, but that’s the magic of yoga, it not only helps attain physical wellness but penetrates through the many layers of our being to heal the mind and soul.: 14.0, A yoga practitioner for the past 9 years and now a yoga coach, I am a staunch proponent of this magical practice only because I have experienced its healing powers.: 14.0, It would be difficult to put down the countless benefits of yoga in a few words, but I’m going to make a rather brave attempt at it, only with the thought that this might encourage people to adopt the yogic way of life.: 14.333333333333332} "
     ]
    }
   ],
   "source": [
    "print(sent_score)"
   ]
  },
  {
   "cell_type": "markdown",
   "id": "75745ba2",
   "metadata": {},
   "source": [
    "# selecting 40% sentences with maximum score "
   ]
  },
  {
   "cell_type": "code",
   "execution_count": 107,
   "id": "868d64bb",
   "metadata": {},
   "outputs": [
    {
     "name": "stdout",
     "output_type": "stream",
     "text": [
      "2.8000000000000003\n"
     ]
    }
   ],
   "source": [
    "from heapq import nlargest \n",
    "\n",
    "print(len(sent_score) * 0.4)"
   ]
  },
  {
   "cell_type": "code",
   "execution_count": 108,
   "id": "389e852e",
   "metadata": {},
   "outputs": [
    {
     "data": {
      "text/plain": [
       "3"
      ]
     },
     "execution_count": 108,
     "metadata": {},
     "output_type": "execute_result"
    }
   ],
   "source": [
    "summary = nlargest(n = 3 , iterable = sent_score , key = sent_score.get)\n",
    "summary\n",
    "len(summary)"
   ]
  },
  {
   "cell_type": "code",
   "execution_count": 109,
   "id": "caa63385",
   "metadata": {},
   "outputs": [
    {
     "data": {
      "text/plain": [
       "3"
      ]
     },
     "execution_count": 109,
     "metadata": {},
     "output_type": "execute_result"
    }
   ],
   "source": [
    "final_summary = [word.text for word in summary]\n",
    "len(final_summary)"
   ]
  },
  {
   "cell_type": "code",
   "execution_count": 110,
   "id": "7931d2f0",
   "metadata": {},
   "outputs": [
    {
     "data": {
      "text/plain": [
       "'It would be difficult to put down the countless benefits of yoga in a few words, but I’m going to make a rather brave attempt at it, only with the thought that this might encourage people to adopt the yogic way of life. This might sound a little too intense, but that’s the magic of yoga, it not only helps attain physical wellness but penetrates through the many layers of our being to heal the mind and soul. A yoga practitioner for the past 9 years and now a yoga coach, I am a staunch proponent of this magical practice only because I have experienced its healing powers.'"
      ]
     },
     "execution_count": 110,
     "metadata": {},
     "output_type": "execute_result"
    }
   ],
   "source": [
    "\" \".join(final_summary)"
   ]
  },
  {
   "cell_type": "code",
   "execution_count": 111,
   "id": "bd064ca2",
   "metadata": {},
   "outputs": [
    {
     "data": {
      "text/plain": [
       "(3, 1166)"
      ]
     },
     "execution_count": 111,
     "metadata": {},
     "output_type": "execute_result"
    }
   ],
   "source": [
    "len(final_summary) , len(text)"
   ]
  },
  {
   "cell_type": "code",
   "execution_count": null,
   "id": "e86258af",
   "metadata": {},
   "outputs": [],
   "source": []
  }
 ],
 "metadata": {
  "kernelspec": {
   "display_name": "Python 3",
   "language": "python",
   "name": "python3"
  },
  "language_info": {
   "codemirror_mode": {
    "name": "ipython",
    "version": 3
   },
   "file_extension": ".py",
   "mimetype": "text/x-python",
   "name": "python",
   "nbconvert_exporter": "python",
   "pygments_lexer": "ipython3",
   "version": "3.8.8"
  }
 },
 "nbformat": 4,
 "nbformat_minor": 5
}
