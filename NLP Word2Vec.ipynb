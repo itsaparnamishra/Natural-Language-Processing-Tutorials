{
 "cells": [
  {
   "cell_type": "code",
   "execution_count": 4,
   "id": "e2ed5d97",
   "metadata": {},
   "outputs": [
    {
     "name": "stdout",
     "output_type": "stream",
     "text": [
      "Collecting gensim\n",
      "  Downloading gensim-4.1.0-cp38-cp38-win_amd64.whl (24.0 MB)\n",
      "Requirement already satisfied: numpy>=1.17.0 in c:\\programdata\\anaconda3\\lib\\site-packages (from gensim) (1.20.1)\n",
      "Requirement already satisfied: Cython==0.29.23 in c:\\programdata\\anaconda3\\lib\\site-packages (from gensim) (0.29.23)\n",
      "Requirement already satisfied: scipy>=0.18.1 in c:\\programdata\\anaconda3\\lib\\site-packages (from gensim) (1.6.2)\n",
      "Collecting smart-open>=1.8.1\n",
      "  Downloading smart_open-5.2.1-py3-none-any.whl (58 kB)\n",
      "Installing collected packages: smart-open, gensim\n",
      "Successfully installed gensim-4.1.0 smart-open-5.2.1\n",
      "Note: you may need to restart the kernel to use updated packages.\n"
     ]
    }
   ],
   "source": [
    "pip install gensim"
   ]
  },
  {
   "cell_type": "markdown",
   "id": "7c2ccfd5",
   "metadata": {},
   "source": [
    "# Example 1"
   ]
  },
  {
   "cell_type": "code",
   "execution_count": 5,
   "id": "c0eabb89",
   "metadata": {},
   "outputs": [],
   "source": [
    "import nltk"
   ]
  },
  {
   "cell_type": "code",
   "execution_count": 24,
   "id": "9aacb13e",
   "metadata": {},
   "outputs": [],
   "source": [
    "from gensim.models import Word2Vec\n",
    "from nltk.corpus import stopwords\n",
    "import re"
   ]
  },
  {
   "cell_type": "code",
   "execution_count": 25,
   "id": "80d93e8f",
   "metadata": {},
   "outputs": [],
   "source": [
    "para = '''Internet entrepreneurs aren’t the only people that fall into the trap of paying themselves by the hour.\n",
    "Students often make the same mistake.I’ve frequently heard horror stories from friends who complain about the hours spent studying for a big exam.\n",
    "However, many of these people are studying with the television in the background, friends sitting around them or instant messaging applications running.\n",
    "How can you consider that studying? Even if some people get rid of the distractions, there isn’t a studying plan. \n",
    "They simply read and re-read their textbook and notes. \n",
    "No brainstorming for ways to lock in the information instead of just pounding it into their skull.\n",
    "They are too busy “studying” to stop and ask themselves if there is a better way to remember the information sitting in front of them.\n",
    "Studying is hard to measure. It’s an open loop and it isn’t easy to know when you’re finished.\n",
    "Because of this ambiguity, many students slide into the habit of counting hours.\n",
    "Instead of counting hours, I suggest forming a list of tasks that will help you learn the information.\n",
    "Reward yourself for finishing tasks on that list, not for spending another hour locked in your room.'''"
   ]
  },
  {
   "cell_type": "markdown",
   "id": "5be38379",
   "metadata": {},
   "source": [
    "#  Data preprocessing  / using regular expressions\n"
   ]
  },
  {
   "cell_type": "code",
   "execution_count": 63,
   "id": "25d7207c",
   "metadata": {},
   "outputs": [
    {
     "data": {
      "text/plain": [
       "'internet entrepreneurs aren’t the only people that fall into the trap of paying themselves by the hour. students often make the same mistake.i’ve frequently heard horror stories from friends who complain about the hours spent studying for a big exam. however, many of these people are studying with the television in the background, friends sitting around them or instant messaging applications running. how can you consider that studying? even if some people get rid of the distractions, there isn’t a studying plan. they simply read and re-read their textbook and notes. no brainstorming for ways to lock in the information instead of just pounding it into their skull. they are too busy “studying” to stop and ask themselves if there is a better way to remember the information sitting in front of them. studying is hard to measure. it’s an open loop and it isn’t easy to know when you’re finished. because of this ambiguity, many students slide into the habit of counting hours. instead of counting hours, i suggest forming a list of tasks that will help you learn the information. reward yourself for finishing tasks on that list, not for spending another hour locked in your room.'"
      ]
     },
     "execution_count": 63,
     "metadata": {},
     "output_type": "execute_result"
    }
   ],
   "source": [
    "text = re.sub(r'\\[[0-9]*\\]',' ',para)\n",
    "text = re.sub(r'\\s+',' ',text)\n",
    "text = text.lower()\n",
    "text = re.sub(r'\\d',' ',text)\n",
    "text = re.sub(r'\\s+',' ',text)\n",
    "text"
   ]
  },
  {
   "cell_type": "markdown",
   "id": "8155ff15",
   "metadata": {},
   "source": [
    "# performing sentence and word tokenization on sentences and removing stopwords\n"
   ]
  },
  {
   "cell_type": "code",
   "execution_count": 82,
   "id": "28caaa2b",
   "metadata": {},
   "outputs": [
    {
     "data": {
      "text/plain": [
       "['reward',\n",
       " 'finishing',\n",
       " 'tasks',\n",
       " 'list',\n",
       " ',',\n",
       " 'spending',\n",
       " 'another',\n",
       " 'hour',\n",
       " 'locked',\n",
       " 'room',\n",
       " '.']"
      ]
     },
     "execution_count": 82,
     "metadata": {},
     "output_type": "execute_result"
    }
   ],
   "source": [
    "sentences = nltk.sent_tokenize(text)\n",
    "\n",
    "sentences = [nltk.word_tokenize(sentence) for sentence in sentences]\n",
    "for i in range(len(sentences)):\n",
    "    sentences[i] = [word for word in sentences[i] if word not in set(stopwords.words('english'))]\n",
    "\n",
    "sentences[i]"
   ]
  },
  {
   "cell_type": "markdown",
   "id": "36feb061",
   "metadata": {},
   "source": [
    "# training word2vec model\n"
   ]
  },
  {
   "cell_type": "code",
   "execution_count": 84,
   "id": "838196e3",
   "metadata": {},
   "outputs": [
    {
     "data": {
      "text/plain": [
       "<gensim.models.word2vec.Word2Vec at 0x2718e3cd340>"
      ]
     },
     "execution_count": 84,
     "metadata": {},
     "output_type": "execute_result"
    }
   ],
   "source": [
    "model = Word2Vec(sentences, min_count = 1)"
   ]
  },
  {
   "cell_type": "code",
   "execution_count": 88,
   "id": "e9294808",
   "metadata": {},
   "outputs": [
    {
     "data": {
      "text/plain": [
       "['.',\n",
       " ',',\n",
       " '’',\n",
       " 'studying',\n",
       " 'people',\n",
       " 'hours',\n",
       " 'information',\n",
       " 'sitting',\n",
       " 'friends',\n",
       " 'students',\n",
       " 'counting',\n",
       " 'list',\n",
       " 'hour',\n",
       " 'tasks',\n",
       " 'many',\n",
       " 'instead',\n",
       " 'background',\n",
       " 'television',\n",
       " 'room',\n",
       " 'around',\n",
       " 'instant',\n",
       " 'messaging',\n",
       " 'however',\n",
       " 'running',\n",
       " 'consider',\n",
       " '?',\n",
       " 'even',\n",
       " 'applications',\n",
       " 'complain',\n",
       " 'exam',\n",
       " 'big',\n",
       " 'spent',\n",
       " 'rid',\n",
       " 'stories',\n",
       " 'horror',\n",
       " 'heard',\n",
       " 'frequently',\n",
       " 'mistake.i',\n",
       " 'make',\n",
       " 'often',\n",
       " 'paying',\n",
       " 'trap',\n",
       " 'fall',\n",
       " 'entrepreneurs',\n",
       " 'get',\n",
       " 'simply',\n",
       " 'distractions',\n",
       " 'plan',\n",
       " 'measure',\n",
       " 'open',\n",
       " 'loop',\n",
       " 'easy',\n",
       " 'know',\n",
       " 'finished',\n",
       " 'ambiguity',\n",
       " 'slide',\n",
       " 'habit',\n",
       " 'suggest',\n",
       " 'forming',\n",
       " 'help',\n",
       " 'learn',\n",
       " 'reward',\n",
       " 'finishing',\n",
       " 'spending',\n",
       " 'another',\n",
       " 'hard',\n",
       " 'front',\n",
       " 'remember',\n",
       " 'lock',\n",
       " 'locked',\n",
       " 'read',\n",
       " 're-read',\n",
       " 'textbook',\n",
       " 'notes',\n",
       " 'brainstorming',\n",
       " 'ways',\n",
       " 'pounding',\n",
       " 'way',\n",
       " 'skull',\n",
       " 'busy',\n",
       " '“',\n",
       " '”',\n",
       " 'stop',\n",
       " 'ask',\n",
       " 'better',\n",
       " 'internet']"
      ]
     },
     "execution_count": 88,
     "metadata": {},
     "output_type": "execute_result"
    }
   ],
   "source": [
    "#getting the list of words\n",
    "\n",
    "words = list(model.wv.index_to_key)\n",
    "words"
   ]
  },
  {
   "cell_type": "markdown",
   "id": "759475bd",
   "metadata": {},
   "source": [
    "# finding word vector and checking for similar words\n"
   ]
  },
  {
   "cell_type": "code",
   "execution_count": 96,
   "id": "f7bfbdab",
   "metadata": {},
   "outputs": [
    {
     "data": {
      "text/plain": [
       "array([-0.00900672,  0.0053454 ,  0.00375837, -0.00604366,  0.00605471,\n",
       "       -0.00110237,  0.00533123, -0.00203752,  0.00575149,  0.0057862 ,\n",
       "       -0.00270945, -0.00907848, -0.00088527,  0.00280451, -0.00731063,\n",
       "       -0.00823434,  0.00097102,  0.00084415, -0.0046268 , -0.00556849,\n",
       "        0.00825371,  0.00955312, -0.00813065, -0.00732048,  0.00042148,\n",
       "       -0.00357539, -0.0006242 , -0.00579677, -0.00767817, -0.00481003,\n",
       "        0.0036579 ,  0.00359234, -0.00871164, -0.00864978, -0.00642584,\n",
       "        0.00241533, -0.00829809,  0.0004149 ,  0.00880985, -0.00905465,\n",
       "       -0.00347839,  0.00894166,  0.00699671, -0.00030708, -0.00429909,\n",
       "       -0.00890116, -0.00466267,  0.00085899,  0.00780527, -0.00229597,\n",
       "        0.00926631, -0.00789799,  0.00530814,  0.00555733, -0.00502396,\n",
       "        0.00774247, -0.00638254,  0.00400745, -0.00960522, -0.00084753,\n",
       "       -0.0019715 ,  0.00656502,  0.00404764, -0.00954711, -0.00238941,\n",
       "       -0.00565239, -0.00763135,  0.0016863 ,  0.00723489, -0.00615455,\n",
       "        0.00903721,  0.00319909, -0.00698531, -0.00030654,  0.00296984,\n",
       "        0.00637529, -0.0002786 ,  0.009669  , -0.00450327, -0.00888184,\n",
       "       -0.00832842,  0.00474076, -0.00487636, -0.00877728, -0.00598643,\n",
       "        0.00073137,  0.00868593, -0.00284219,  0.00385044, -0.00043922,\n",
       "        0.00986995,  0.00485832, -0.00769127, -0.00987145, -0.0033688 ,\n",
       "        0.00264649,  0.00525819,  0.00754698,  0.00390531,  0.0077633 ],\n",
       "      dtype=float32)"
      ]
     },
     "execution_count": 96,
     "metadata": {},
     "output_type": "execute_result"
    }
   ],
   "source": [
    "vector = model.wv['ask']\n",
    "vector"
   ]
  },
  {
   "cell_type": "code",
   "execution_count": 99,
   "id": "4f826bae",
   "metadata": {},
   "outputs": [
    {
     "data": {
      "text/plain": [
       "array([ 0.00938766,  0.00736724,  0.00687495,  0.00610267,  0.00501954,\n",
       "       -0.0019435 ,  0.00013936,  0.00535773, -0.00678721,  0.002463  ,\n",
       "       -0.00383973,  0.00832021,  0.00585994, -0.00548342,  0.00251763,\n",
       "       -0.003974  , -0.00965494, -0.00036896,  0.00056753, -0.00728432,\n",
       "        0.00155237,  0.00157474, -0.00906586, -0.00211256, -0.00196702,\n",
       "        0.00477619,  0.00560765,  0.00610227,  0.00193929, -0.00805035,\n",
       "        0.0001837 ,  0.009912  ,  0.00896269,  0.00564491,  0.0029858 ,\n",
       "        0.00510961, -0.00438572, -0.0051338 , -0.00039316, -0.00490674,\n",
       "        0.00604668,  0.00755398, -0.0008266 , -0.00905395, -0.0042107 ,\n",
       "       -0.00757776, -0.00820692,  0.00207546,  0.00304931, -0.00526459,\n",
       "       -0.00743078,  0.00038319,  0.00083446,  0.00060283,  0.00785345,\n",
       "       -0.00198506, -0.00950167,  0.00598697,  0.00780647, -0.0059561 ,\n",
       "        0.0080333 ,  0.00510627, -0.00247346, -0.00171847,  0.00630912,\n",
       "        0.00809691,  0.00857359, -0.00689518,  0.00031926, -0.00542703,\n",
       "       -0.00932747, -0.00343113, -0.00325103, -0.0058252 ,  0.00322735,\n",
       "       -0.00388848,  0.00034186, -0.00231158,  0.00209799,  0.00553898,\n",
       "        0.00998969,  0.00387223, -0.00411006,  0.0056742 ,  0.00463408,\n",
       "        0.0009973 ,  0.00980646, -0.00418644,  0.00489264, -0.00711782,\n",
       "        0.00452079,  0.00903179, -0.00829628,  0.00253293,  0.00582464,\n",
       "       -0.00581005, -0.00711867, -0.00386581,  0.00374576,  0.00140822],\n",
       "      dtype=float32)"
      ]
     },
     "execution_count": 99,
     "metadata": {},
     "output_type": "execute_result"
    }
   ],
   "source": [
    "vector = model.wv[\"internet\"]\n",
    "vector"
   ]
  },
  {
   "cell_type": "code",
   "execution_count": 106,
   "id": "3efdcf5a",
   "metadata": {},
   "outputs": [
    {
     "data": {
      "text/plain": [
       "array([-7.8522786e-03, -8.3354544e-03,  1.1488191e-03, -7.6344435e-04,\n",
       "       -9.5131025e-03,  3.0978166e-03,  2.2657260e-03,  4.4569136e-03,\n",
       "        4.4259597e-03,  3.2333145e-03, -9.8181926e-03,  5.7312222e-03,\n",
       "        4.2676739e-03, -7.7460981e-03, -2.1201924e-03,  3.4927714e-04,\n",
       "       -6.3501863e-04, -9.6856384e-04, -5.5472227e-03,  1.4528281e-05,\n",
       "        4.4222651e-03, -6.8081683e-04,  7.9943630e-04,  2.0883714e-03,\n",
       "       -3.9763306e-03, -7.8675551e-03,  9.1707921e-03, -9.7843949e-03,\n",
       "       -2.4846487e-03, -1.2622643e-03, -7.6717376e-03,  1.7710997e-03,\n",
       "        7.9438193e-03, -1.5344102e-03,  8.0962274e-03,  3.0162241e-04,\n",
       "       -5.7717166e-03, -1.9858866e-03, -7.3599006e-04,  6.2558665e-03,\n",
       "        7.1201171e-03,  6.1977315e-03, -5.9914407e-03, -6.9823433e-03,\n",
       "        6.1077448e-03,  2.4701189e-03,  5.3389445e-03,  4.5970193e-04,\n",
       "        7.8736367e-03, -8.8790627e-03,  9.8704910e-03, -8.2396595e-03,\n",
       "       -1.7068798e-03,  6.2753609e-03, -9.2395879e-03,  4.3138829e-03,\n",
       "       -6.9724573e-03, -6.8452898e-03,  2.3057044e-03,  1.7339530e-03,\n",
       "       -2.7793639e-03,  7.8618415e-03, -7.0096110e-03,  4.6280070e-04,\n",
       "        8.7253498e-03,  2.0343368e-03, -6.8574003e-03,  3.5514852e-03,\n",
       "       -5.0450759e-03,  5.9175427e-04,  2.8602888e-03,  7.5892070e-03,\n",
       "        7.3903603e-03, -4.8892316e-03,  9.5249359e-03, -5.4858322e-03,\n",
       "        7.6251058e-03, -7.9769138e-03, -7.8257769e-03, -1.1092464e-03,\n",
       "       -8.1508653e-03, -3.4753098e-03, -5.3135899e-04,  1.4504790e-06,\n",
       "       -9.9602668e-03, -6.5165735e-03, -7.4142665e-03, -3.8550273e-04,\n",
       "        5.1993579e-03, -7.3834104e-05,  9.9631557e-03, -3.8803730e-03,\n",
       "        8.0594355e-03,  6.0788430e-03,  8.2740039e-03,  1.1067800e-04,\n",
       "       -4.3009152e-04,  1.8861882e-03, -9.9219605e-03,  9.0373894e-03],\n",
       "      dtype=float32)"
      ]
     },
     "execution_count": 106,
     "metadata": {},
     "output_type": "execute_result"
    }
   ],
   "source": [
    "vector = model.wv[\"ambiguity\"]\n",
    "vector"
   ]
  },
  {
   "cell_type": "code",
   "execution_count": 113,
   "id": "ecda6a9a",
   "metadata": {},
   "outputs": [
    {
     "data": {
      "text/plain": [
       "1"
      ]
     },
     "execution_count": 113,
     "metadata": {},
     "output_type": "execute_result"
    }
   ],
   "source": [
    "#Checking the dimension of vector\n",
    "\n",
    "vector = model.wv[\"stop\"]\n",
    "vector.ndim"
   ]
  },
  {
   "cell_type": "code",
   "execution_count": 114,
   "id": "11471c0e",
   "metadata": {},
   "outputs": [
    {
     "data": {
      "text/plain": [
       "[('background', 0.23238840699195862),\n",
       " ('horror', 0.15160098671913147),\n",
       " ('get', 0.1419937163591385),\n",
       " ('know', 0.13090558350086212),\n",
       " ('notes', 0.12315267324447632),\n",
       " ('heard', 0.11294134706258774),\n",
       " ('skull', 0.11131922900676727),\n",
       " ('hours', 0.1067662462592125),\n",
       " ('big', 0.10327412933111191),\n",
       " ('even', 0.09311408549547195)]"
      ]
     },
     "execution_count": 114,
     "metadata": {},
     "output_type": "execute_result"
    }
   ],
   "source": [
    "#finding most similar words\n",
    "\n",
    "similar = model.wv.most_similar(\"ambiguity\")\n",
    "similar"
   ]
  },
  {
   "cell_type": "code",
   "execution_count": 115,
   "id": "98fdb720",
   "metadata": {},
   "outputs": [
    {
     "data": {
      "text/plain": [
       "[('trap', 0.27792972326278687),\n",
       " ('instant', 0.24500901997089386),\n",
       " ('distractions', 0.2126689851284027),\n",
       " ('applications', 0.2053958773612976),\n",
       " ('television', 0.19751974940299988),\n",
       " ('lock', 0.18146991729736328),\n",
       " ('paying', 0.14264748990535736),\n",
       " ('busy', 0.13188539445400238),\n",
       " ('forming', 0.1233656257390976),\n",
       " ('make', 0.10627570748329163)]"
      ]
     },
     "execution_count": 115,
     "metadata": {},
     "output_type": "execute_result"
    }
   ],
   "source": [
    "similar = model.wv.most_similar(\"ask\")\n",
    "similar\n"
   ]
  },
  {
   "cell_type": "code",
   "execution_count": 116,
   "id": "c7aab6e1",
   "metadata": {},
   "outputs": [
    {
     "data": {
      "text/plain": [
       "[('textbook', 0.2864851653575897),\n",
       " ('make', 0.23406465351581573),\n",
       " ('read', 0.19930419325828552),\n",
       " ('background', 0.18809612095355988),\n",
       " ('frequently', 0.17804792523384094),\n",
       " ('suggest', 0.17570409178733826),\n",
       " ('stories', 0.16320204734802246),\n",
       " ('’', 0.1430414319038391),\n",
       " ('people', 0.13269370794296265),\n",
       " ('plan', 0.13043281435966492)]"
      ]
     },
     "execution_count": 116,
     "metadata": {},
     "output_type": "execute_result"
    }
   ],
   "source": [
    "similar = model.wv.most_similar(\"stop\")\n",
    "similar"
   ]
  },
  {
   "cell_type": "code",
   "execution_count": 118,
   "id": "a2318c77",
   "metadata": {},
   "outputs": [
    {
     "data": {
      "text/plain": [
       "[('counting', 0.2685001492500305),\n",
       " ('horror', 0.20564444363117218),\n",
       " ('rid', 0.19809749722480774),\n",
       " ('many', 0.18981529772281647),\n",
       " ('.', 0.16922827064990997),\n",
       " ('textbook', 0.1665092408657074),\n",
       " ('students', 0.16155587136745453),\n",
       " ('room', 0.1500954031944275),\n",
       " ('television', 0.14531023800373077),\n",
       " ('hour', 0.11490123718976974)]"
      ]
     },
     "execution_count": 118,
     "metadata": {},
     "output_type": "execute_result"
    }
   ],
   "source": [
    "similar = model.wv.most_similar(\"entrepreneurs\")\n",
    "similar"
   ]
  },
  {
   "cell_type": "code",
   "execution_count": null,
   "id": "e58c01fd",
   "metadata": {},
   "outputs": [],
   "source": []
  }
 ],
 "metadata": {
  "kernelspec": {
   "display_name": "Python 3",
   "language": "python",
   "name": "python3"
  },
  "language_info": {
   "codemirror_mode": {
    "name": "ipython",
    "version": 3
   },
   "file_extension": ".py",
   "mimetype": "text/x-python",
   "name": "python",
   "nbconvert_exporter": "python",
   "pygments_lexer": "ipython3",
   "version": "3.8.8"
  }
 },
 "nbformat": 4,
 "nbformat_minor": 5
}
