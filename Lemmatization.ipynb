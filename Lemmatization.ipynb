{
 "cells": [
  {
   "cell_type": "markdown",
   "id": "55ca7aa8",
   "metadata": {},
   "source": [
    "# Example 1"
   ]
  },
  {
   "cell_type": "code",
   "execution_count": 1,
   "id": "d99fcc54",
   "metadata": {},
   "outputs": [],
   "source": [
    "import nltk\n",
    "from nltk.stem import WordNetLemmatizer  #used for performing lemmatization \n",
    "from nltk.corpus import stopwords   #used to remove repeating words like- of,we,the,them etc\n",
    "\n",
    "\n",
    "para = \"\"\"Yoga develops inner awareness. It focuses your attention on your body's abilities at the present moment.\n",
    "                It helps develop breath and strength of mind and body. It's not about physical appearance.\n",
    "                Yoga studios typically don't have mirrors.\n",
    "                This is so people can focus their awareness inward rather than how a pose — or the people around them — looks.\n",
    "                Surveys have found that those who practiced yoga were more aware of their bodies than people who didn't practice yoga. \n",
    "                They were also more satisfied with and less critical of their bodies. \n",
    "                For these reasons, yoga has become an integral part in the treatment of eating disorders and programs that promote positive body image and self-esteem.\"\"\"\n",
    "\n",
    "\n"
   ]
  },
  {
   "cell_type": "code",
   "execution_count": 14,
   "id": "24bbdd70",
   "metadata": {},
   "outputs": [
    {
     "name": "stdout",
     "output_type": "stream",
     "text": [
      "['Yoga develops inner awareness.', \"It focuses your attention on your body's abilities at the present moment.\", 'It helps develop breath and strength of mind and body.', \"It's not about physical appearance.\", \"Yoga studios typically don't have mirrors.\", 'This is so people can focus their awareness inward rather than how a pose — or the people around them — looks.', \"Surveys have found that those who practiced yoga were more aware of their bodies than people who didn't practice yoga.\", 'They were also more satisfied with and less critical of their bodies.', 'For these reasons, yoga has become an integral part in the treatment of eating disorders and programs that promote positive body image and self-esteem.']\n",
      "length of sentences after tokenization: 9\n"
     ]
    }
   ],
   "source": [
    "#tokenizing the para into sentences\n",
    "\n",
    "sentences = nltk.sent_tokenize(para)\n",
    "print(sentences)\n",
    "print(\"length of sentences after tokenization:\",len(sentences))"
   ]
  },
  {
   "cell_type": "code",
   "execution_count": 15,
   "id": "2c732682",
   "metadata": {},
   "outputs": [
    {
     "name": "stdout",
     "output_type": "stream",
     "text": [
      "['For', 'reason', ',', 'yoga', 'become', 'integral', 'part', 'treatment', 'eating', 'disorder', 'program', 'promote', 'positive', 'body', 'image', 'self-esteem', '.']\n",
      "For reason , yoga become integral part treatment eating disorder program promote positive body image self-esteem .\n"
     ]
    }
   ],
   "source": [
    "# WordNetLemmatizer is a library used for Lemmatizing task\n",
    "\n",
    "#creating lemmatizer object which will be responsible for lemmatization\n",
    "lemmatizer = WordNetLemmatizer()\n",
    "\n",
    "#lemmatization \n",
    "for i in range(len(sentences)):\n",
    "    words = nltk.word_tokenize(sentences[i])\n",
    "    words = [lemmatizer.lemmatize(word) for word in words if word not in set(stopwords.words('english'))]\n",
    "    sentences[i] = ' '.join(words)\n",
    "\n",
    "print(words)\n",
    "print(sentences[i])"
   ]
  },
  {
   "cell_type": "markdown",
   "id": "d88e4338",
   "metadata": {},
   "source": [
    "# Example 2"
   ]
  },
  {
   "cell_type": "code",
   "execution_count": 22,
   "id": "32b2aba0",
   "metadata": {},
   "outputs": [],
   "source": [
    "para = '''Yoga is being practiced worldwide today. Approximately 2 billion people around the world practice Yoga.\n",
    "According to a survey, it is said that number of Americans doing yoga has grown by 50% over the last few years to over 36 million as of 2016 from 20.4 million in 2012.\n",
    "In addition to these 9 out of 10 Americans have heard of Yoga, one in three have tried yoga at least once and more than 15% of Americans have done Yoga in the past six months.\n",
    "Yoga is an ancient physical, mental and spiritual practice that originated in India and is now practiced in various forms around the world.\n",
    "Indians have known the importance of Yoga from decades and from last many years the whole world is talking, practicing and adopting Yoga and its benefits.\n",
    "People have known the Importance and power of Yoga over the period of time. Here are essays on importance of yoga of varying lengths to help you with the topic whenever you required. \n",
    "You can chose any importance of yoga essay according to your need:'''"
   ]
  },
  {
   "cell_type": "code",
   "execution_count": 25,
   "id": "26de4109",
   "metadata": {},
   "outputs": [
    {
     "name": "stdout",
     "output_type": "stream",
     "text": [
      "['Yoga is being practiced worldwide today.', 'Approximately 2 billion people around the world practice Yoga.', 'According to a survey, it is said that number of Americans doing yoga has grown by 50% over the last few years to over 36 million as of 2016 from 20.4 million in 2012.', 'In addition to these 9 out of 10 Americans have heard of Yoga, one in three have tried yoga at least once and more than 15% of Americans have done Yoga in the past six months.', 'Yoga is an ancient physical, mental and spiritual practice that originated in India and is now practiced in various forms around the world.', 'Indians have known the importance of Yoga from decades and from last many years the whole world is talking, practicing and adopting Yoga and its benefits.', 'People have known the Importance and power of Yoga over the period of time.', 'Here are essays on importance of yoga of varying lengths to help you with the topic whenever you required.', 'You can chose any importance of yoga essay according to your need:']\n",
      "the length of sentences after tokenization: 9\n"
     ]
    }
   ],
   "source": [
    "#tokenizing the paragraph into sentences\n",
    "\n",
    "\n",
    "sentences = nltk.sent_tokenize(para)\n",
    "print(sentences)\n",
    "print('the length of sentences after tokenization:',len(sentences))"
   ]
  },
  {
   "cell_type": "code",
   "execution_count": 29,
   "id": "d1b04f9c",
   "metadata": {},
   "outputs": [
    {
     "name": "stdout",
     "output_type": "stream",
     "text": [
      "['You', 'chose', 'importance', 'yoga', 'essay', 'according', 'need', ':']\n",
      "You chose importance yoga essay according need :\n"
     ]
    }
   ],
   "source": [
    "#creating lemmatizer object\n",
    "\n",
    "lemmatizer = WordNetLemmatizer()\n",
    "\n",
    "#lemmatizing code\n",
    "\n",
    "for i in range(len(sentences)):\n",
    "    words = nltk.word_tokenize(sentences[i]) #tokenizing the sentences into words\n",
    "    words = [lemmatizer.lemmatize(word) for word in words if word not in set(stopwords.words('english'))]\n",
    "    sentences[i] = ' '.join(words)\n",
    "    \n",
    "print(words)\n",
    "print(sentences[i])"
   ]
  },
  {
   "cell_type": "code",
   "execution_count": null,
   "id": "fbeaa557",
   "metadata": {},
   "outputs": [],
   "source": []
  }
 ],
 "metadata": {
  "kernelspec": {
   "display_name": "Python 3",
   "language": "python",
   "name": "python3"
  },
  "language_info": {
   "codemirror_mode": {
    "name": "ipython",
    "version": 3
   },
   "file_extension": ".py",
   "mimetype": "text/x-python",
   "name": "python",
   "nbconvert_exporter": "python",
   "pygments_lexer": "ipython3",
   "version": "3.8.8"
  }
 },
 "nbformat": 4,
 "nbformat_minor": 5
}
