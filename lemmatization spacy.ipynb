{
 "cells": [
  {
   "cell_type": "code",
   "execution_count": 1,
   "id": "00e97475",
   "metadata": {},
   "outputs": [],
   "source": [
    "import spacy \n",
    "nlp = spacy.load('en_core_web_sm')"
   ]
  },
  {
   "cell_type": "code",
   "execution_count": 2,
   "id": "35f5ccb2",
   "metadata": {},
   "outputs": [
    {
     "name": "stdout",
     "output_type": "stream",
     "text": [
      "I \t PRON \t 4690420944186131903 \t I\n",
      "am \t AUX \t 10382539506755952630 \t be\n",
      "a \t DET \t 11901859001352538922 \t a\n",
      "runner \t NOUN \t 12640964157389618806 \t runner\n",
      "running \t VERB \t 12767647472892411841 \t run\n",
      "in \t ADP \t 3002984154512732771 \t in\n",
      "a \t DET \t 11901859001352538922 \t a\n",
      "race \t NOUN \t 8048469955494714898 \t race\n",
      "because \t SCONJ \t 16950148841647037698 \t because\n",
      "I \t PRON \t 4690420944186131903 \t I\n",
      "love \t VERB \t 3702023516439754181 \t love\n",
      "to \t PART \t 3791531372978436496 \t to\n",
      "run \t VERB \t 12767647472892411841 \t run\n",
      "since \t SCONJ \t 10066841407251338481 \t since\n",
      "I \t PRON \t 4690420944186131903 \t I\n",
      "ran \t VERB \t 12767647472892411841 \t run\n",
      "today \t NOUN \t 11042482332948150395 \t today\n"
     ]
    }
   ],
   "source": [
    "doc1 = nlp(u\"I am a runner running in a race because I love to run since I ran today\")\n",
    "for token in doc1:\n",
    "    print(token.text , '\\t' , token.pos_ , '\\t', token.lemma , '\\t' , token.lemma_ )"
   ]
  },
  {
   "cell_type": "markdown",
   "id": "bbde6a18",
   "metadata": {},
   "source": [
    "# lemmatization using NLTK"
   ]
  },
  {
   "cell_type": "code",
   "execution_count": 32,
   "id": "f444a018",
   "metadata": {},
   "outputs": [
    {
     "name": "stdout",
     "output_type": "stream",
     "text": [
      "I\n",
      "saw\n",
      "eighteen\n",
      "mouse\n",
      "today!\n",
      "\n",
      "\n",
      "I\n",
      "am\n",
      "a\n",
      "runner\n",
      "running\n",
      "in\n",
      "a\n",
      "race\n",
      "because\n",
      "I\n",
      "love\n",
      "to\n",
      "run\n",
      "since\n",
      "I\n",
      "ran\n",
      "today\n",
      "\n",
      "\n",
      "I\n",
      "am\n",
      "meeting\n",
      "him\n",
      "tomorrow\n",
      "at\n",
      "the\n",
      "meeting.\n"
     ]
    }
   ],
   "source": [
    "import nltk\n",
    "from nltk.stem import WordNetLemmatizer\n",
    "\n",
    "\n",
    "def lemmat(text):\n",
    "    lemmatizer = WordNetLemmatizer()\n",
    "    for word in text.split():\n",
    "        print(lemmatizer.lemmatize(word))\n",
    "    \n",
    "    \n",
    "doc1 = (u\"I am a runner running in a race because I love to run since I ran today\")\n",
    "doc2 = (u\"I saw eighteen mice today!\")\n",
    "doc3 = (u\"I am meeting him tomorrow at the meeting.\")\n",
    "\n",
    "lemmat(doc2)\n",
    "print('\\n')\n",
    "\n",
    "lemmat(doc1)\n",
    "print('\\n')\n",
    "\n",
    "lemmat(doc3)\n"
   ]
  },
  {
   "cell_type": "markdown",
   "id": "793c333f",
   "metadata": {},
   "source": [
    "# defining function for lemmatization in spacy\n"
   ]
  },
  {
   "cell_type": "code",
   "execution_count": 18,
   "id": "a1e0c582",
   "metadata": {},
   "outputs": [],
   "source": [
    "# function show_lemmas()\n",
    "def show_lemmas(text):\n",
    "    for token in text:\n",
    "        print(f'{token.text:{12}} {token.pos_:{6}} {token.lemma:<{22}} {token.lemma_}')"
   ]
  },
  {
   "cell_type": "code",
   "execution_count": 19,
   "id": "97800d27",
   "metadata": {},
   "outputs": [
    {
     "name": "stdout",
     "output_type": "stream",
     "text": [
      "I            PRON   4690420944186131903    I\n",
      "saw          VERB   11925638236994514241   see\n",
      "eighteen     NUM    9609336664675087640    eighteen\n",
      "mice         NOUN   1384165645700560590    mouse\n",
      "today        NOUN   11042482332948150395   today\n",
      "!            PUNCT  17494803046312582752   !\n"
     ]
    }
   ],
   "source": [
    "doc2 = nlp(u\"I saw eighteen mice today!\")\n",
    "show_lemmas(doc2)"
   ]
  },
  {
   "cell_type": "code",
   "execution_count": 20,
   "id": "1ddf5f61",
   "metadata": {},
   "outputs": [
    {
     "name": "stdout",
     "output_type": "stream",
     "text": [
      "I            PRON   4690420944186131903    I\n",
      "am           AUX    10382539506755952630   be\n",
      "meeting      VERB   6880656908171229526    meet\n",
      "him          PRON   1655312771067108281    he\n",
      "tomorrow     NOUN   3573583789758258062    tomorrow\n",
      "at           ADP    11667289587015813222   at\n",
      "the          DET    7425985699627899538    the\n",
      "meeting      NOUN   14798207169164081740   meeting\n",
      ".            PUNCT  12646065887601541794   .\n"
     ]
    }
   ],
   "source": [
    "doc3 = nlp(u\"I am meeting him tomorrow at the meeting.\")\n",
    "show_lemmas(doc3)"
   ]
  },
  {
   "cell_type": "code",
   "execution_count": 21,
   "id": "78f2ca9a",
   "metadata": {},
   "outputs": [
    {
     "name": "stdout",
     "output_type": "stream",
     "text": [
      "That         DET    4380130941430378203    that\n",
      "'s           AUX    10382539506755952630   be\n",
      "an           DET    15099054000809333061   an\n",
      "enormous     ADJ    17917224542039855524   enormous\n",
      "automobile   NOUN   7211811266693931283    automobile\n"
     ]
    }
   ],
   "source": [
    "doc4 = nlp(u\"That's an enormous automobile\")\n",
    "show_lemmas(doc4)"
   ]
  },
  {
   "cell_type": "code",
   "execution_count": null,
   "id": "229f8fcf",
   "metadata": {},
   "outputs": [],
   "source": []
  }
 ],
 "metadata": {
  "kernelspec": {
   "display_name": "Python 3",
   "language": "python",
   "name": "python3"
  },
  "language_info": {
   "codemirror_mode": {
    "name": "ipython",
    "version": 3
   },
   "file_extension": ".py",
   "mimetype": "text/x-python",
   "name": "python",
   "nbconvert_exporter": "python",
   "pygments_lexer": "ipython3",
   "version": "3.8.8"
  }
 },
 "nbformat": 4,
 "nbformat_minor": 5
}
