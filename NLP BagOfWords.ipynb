{
 "cells": [
  {
   "cell_type": "markdown",
   "id": "dcd2ac45",
   "metadata": {},
   "source": [
    "# Example 1"
   ]
  },
  {
   "cell_type": "code",
   "execution_count": 1,
   "id": "aae9089a",
   "metadata": {},
   "outputs": [],
   "source": [
    "import nltk "
   ]
  },
  {
   "cell_type": "code",
   "execution_count": 2,
   "id": "d47cd9e7",
   "metadata": {},
   "outputs": [],
   "source": [
    "para = '''Yoga is essentially a spiritual discipline based on an extremely subtle science, which focuses on bringing harmony between mind and body.\n",
    "It is an art and science of healthy living. The word ‘Yoga’ is derived from the Sanskrit root ‘Yuj’, meaning ‘to join’ or ‘to yoke’ or ‘to unite’.\n",
    "As per Yogic scriptures the practice of Yoga leads to the union of individual consciousness with that of the Universal Consciousness, indicating a perfect harmony between the mind and body, Man & Nature.\n",
    "According to modern scientists, everything in the universe is just a manifestation of the same quantum firmament.\n",
    "One who experiences this oneness of existence is said to be in yoga, and is termed as a yogi, having attained to a state of freedom referred to as mukti, nirvana or moksha. \n",
    "Thus the aim of Yoga is Self-realization, to overcome all kinds of sufferings leading to 'the state of liberation' (Moksha) or ‘freedom’ (Kaivalya). \n",
    "Living with freedom in all walks of life, health and harmony shall be the main objectives of Yoga practice.\n",
    "\"Yoga” also refers to an inner science comprising of a variety of methods through which human beings can realize this union and achieve mastery over their destiny.\n",
    "Yoga, being widely considered as an ‘immortal cultural outcome’ of Indus Saraswati Valley civilization – dating back to 2700 B.C., has proved itself catering to both material and spiritual upliftment of humanity.\n",
    "Basic humane values are the very identity of Yoga Sadhana.\n",
    "'''"
   ]
  },
  {
   "cell_type": "code",
   "execution_count": 7,
   "id": "1ee7f312",
   "metadata": {},
   "outputs": [],
   "source": [
    "#cleaning the tetxs\n",
    "import re\n",
    "from nltk.corpus import stopwords\n",
    "from nltk.stem import PorterStemmer\n",
    "from nltk.stem import WordNetLemmatizer\n",
    "\n",
    "#creating an object 'ps' and 'lemmatize'\n",
    "ps = PorterStemmer()\n",
    "lemmatizer = WordNetLemmatizer()\n",
    "\n",
    "#tokenization\n",
    "sentences = nltk.sent_tokenize(para)"
   ]
  },
  {
   "cell_type": "code",
   "execution_count": 15,
   "id": "a7904a17",
   "metadata": {},
   "outputs": [
    {
     "name": "stdout",
     "output_type": "stream",
     "text": [
      "['yoga essentially spiritual discipline based extremely subtle science focus bringing harmony mind body', 'art science healthy living', 'word yoga derived sanskrit root yuj meaning join yoke unite', 'per yogic scripture practice yoga lead union individual consciousness universal consciousness indicating perfect harmony mind body man nature', 'according modern scientist everything universe manifestation quantum firmament', 'one experience oneness existence said yoga termed yogi attained state freedom referred mukti nirvana moksha', 'thus aim yoga self realization overcome kind suffering leading state liberation moksha freedom kaivalya', 'living freedom walk life health harmony shall main objective yoga practice', 'yoga also refers inner science comprising variety method human being realize union achieve mastery destiny', 'yoga widely considered immortal cultural outcome indus saraswati valley civilization dating back b c proved catering material spiritual upliftment humanity', 'basic humane value identity yoga sadhana']\n"
     ]
    }
   ],
   "source": [
    "#after cleaning the texts all the words will be stored in this empty list called 'corpus'\n",
    "corpus = []\n",
    "for i in range(len(sentences)):\n",
    "    \n",
    "    #removes everything except: a-z and A-Z\n",
    "    result = re.sub('[^a-zA-Z]',' ',sentences[i])\n",
    "    \n",
    "    #converts into lowercase\n",
    "    result = result.lower() \n",
    "    \n",
    "    #creates a list \n",
    "    result = result.split()\n",
    "    \n",
    "    #list comprehension for lemmatizing and removing repetitive words\n",
    "    result = [lemmatizer.lemmatize(word) for word in result if word not in set(stopwords.words('english'))]\n",
    "\n",
    "    #joins all words after lemmatization\n",
    "    result = ' '.join(result)    \n",
    "    \n",
    "    corpus.append(result)\n",
    "    \n",
    "print(corpus)\n",
    "    "
   ]
  },
  {
   "cell_type": "code",
   "execution_count": 23,
   "id": "b6c94627",
   "metadata": {},
   "outputs": [
    {
     "name": "stdout",
     "output_type": "stream",
     "text": [
      "[[0 0 0 ... 0 0 0]\n",
      " [0 0 0 ... 0 0 0]\n",
      " [0 0 0 ... 0 1 1]\n",
      " ...\n",
      " [0 1 0 ... 0 0 0]\n",
      " [0 0 0 ... 0 0 0]\n",
      " [0 0 0 ... 0 0 0]]\n",
      "Shape of X: (11, 109)\n"
     ]
    }
   ],
   "source": [
    "#creating Bag of words model\n",
    "\n",
    "from sklearn.feature_extraction.text import CountVectorizer\n",
    "cv = CountVectorizer()\n",
    "X = cv.fit_transform(corpus).toarray()\n",
    "print(X)\n",
    "print(\"Shape of X:\",X.shape)"
   ]
  },
  {
   "cell_type": "markdown",
   "id": "fea89fd2",
   "metadata": {},
   "source": [
    "# Example 2"
   ]
  },
  {
   "cell_type": "code",
   "execution_count": null,
   "id": "64813b20",
   "metadata": {},
   "outputs": [],
   "source": [
    "import nltk"
   ]
  },
  {
   "cell_type": "code",
   "execution_count": 24,
   "id": "276a47c8",
   "metadata": {},
   "outputs": [],
   "source": [
    "para = '''Why You’re Probably Not Working as Much as You Think You Are\n",
    "          People who’ve never done a timelog before often grossly overestimate the amount of time they are actually working.\n",
    "\n",
    "        Years ago I had a friend who was launching a software company and earnestly told me that he was putting in 12-hour work days to achieve this.\n",
    "        Despite that, I could see him making dozens of online forum posts throughout the day. Writing on a forum loosely related to running your business\n",
    "        may be considered work, but it’s hard to see how chiming in on old topics stacked against his urgent goal to ship his product on time.\n",
    "\n",
    "        Doing a timelog, meticulously recording when you start and stop work activities, is often discouraging because the illusion of productivity gets shattered.\n",
    "        You may feel you’re putting in heroic hours on a particular goal, but the actual logs show only a fraction of your time was spent on important work.'''"
   ]
  },
  {
   "cell_type": "code",
   "execution_count": 26,
   "id": "f461c108",
   "metadata": {},
   "outputs": [],
   "source": [
    "#cleaning the text\n",
    "\n",
    "import re\n",
    "from nltk.corpus import stopwords\n",
    "from nltk.stem import PorterStemmer\n",
    "from nltk.stem import WordNetLemmatizer\n",
    "\n",
    "#creating objects\n",
    "ps = PorterStemmer()\n",
    "lemmatizer = WordNetLemmatizer()\n",
    "\n",
    "#tokenization \n",
    "sentences = nltk.sent_tokenize(para)\n"
   ]
  },
  {
   "cell_type": "code",
   "execution_count": 27,
   "id": "af20f1d1",
   "metadata": {},
   "outputs": [
    {
     "name": "stdout",
     "output_type": "stream",
     "text": [
      "['probably working much think people never done timelog often grossly overestimate amount time actually working', 'year ago friend launching software company earnestly told putting hour work day achieve', 'despite could see making dozen online forum post throughout day', 'writing forum loosely related running business may considered work hard see chiming old topic stacked urgent goal ship product time', 'timelog meticulously recording start stop work activity often discouraging illusion productivity get shattered', 'may feel putting heroic hour particular goal actual log show fraction time spent important work']\n"
     ]
    }
   ],
   "source": [
    "corpus = []\n",
    "for i in range(len(sentences)):\n",
    "    result = re.sub('[^a-zA-Z]',' ',sentences[i])\n",
    "    result = result.lower()\n",
    "    result = result.split()\n",
    "    result = [lemmatizer.lemmatize(word) for word in result if word not in set(stopwords.words('english'))]\n",
    "    result = ' '.join(result)\n",
    "    corpus.append(result)\n",
    "    \n",
    "print(corpus)"
   ]
  },
  {
   "cell_type": "code",
   "execution_count": 28,
   "id": "1fc1b9bd",
   "metadata": {},
   "outputs": [
    {
     "data": {
      "text/plain": [
       "array([[0, 0, 0, 1, 0, 1, 0, 0, 0, 0, 0, 0, 0, 0, 1, 0, 0, 0, 0, 0, 0, 0,\n",
       "        0, 1, 0, 0, 0, 0, 0, 0, 0, 0, 0, 0, 0, 1, 1, 1, 0, 0, 1, 0, 1, 0,\n",
       "        1, 0, 0, 0, 0, 0, 0, 0, 0, 0, 0, 0, 0, 0, 0, 0, 1, 0, 1, 1, 0, 0,\n",
       "        0, 0, 2, 0, 0],\n",
       "       [1, 0, 0, 0, 1, 0, 0, 0, 1, 0, 0, 1, 0, 0, 0, 0, 1, 0, 0, 0, 1, 0,\n",
       "        0, 0, 0, 0, 1, 0, 0, 1, 0, 0, 0, 0, 0, 0, 0, 0, 0, 0, 0, 0, 0, 0,\n",
       "        0, 0, 0, 1, 0, 0, 0, 0, 0, 0, 0, 1, 0, 0, 0, 0, 0, 0, 0, 0, 1, 0,\n",
       "        0, 1, 0, 0, 1],\n",
       "       [0, 0, 0, 0, 0, 0, 0, 0, 0, 0, 1, 1, 1, 0, 0, 1, 0, 0, 1, 0, 0, 0,\n",
       "        0, 0, 0, 0, 0, 0, 0, 0, 0, 0, 1, 0, 0, 0, 0, 0, 0, 1, 0, 0, 0, 1,\n",
       "        0, 0, 0, 0, 0, 0, 0, 1, 0, 0, 0, 0, 0, 0, 0, 0, 0, 1, 0, 0, 0, 0,\n",
       "        0, 0, 0, 0, 0],\n",
       "       [0, 0, 0, 0, 0, 0, 1, 1, 0, 1, 0, 0, 0, 0, 0, 0, 0, 0, 1, 0, 0, 0,\n",
       "        1, 0, 1, 0, 0, 0, 0, 0, 0, 1, 0, 1, 0, 0, 0, 0, 1, 0, 0, 0, 0, 0,\n",
       "        0, 1, 0, 0, 0, 1, 1, 1, 0, 1, 0, 0, 0, 1, 0, 0, 0, 0, 1, 0, 0, 1,\n",
       "        1, 1, 0, 1, 0],\n",
       "       [0, 1, 0, 0, 0, 0, 0, 0, 0, 0, 0, 0, 0, 1, 0, 0, 0, 0, 0, 0, 0, 1,\n",
       "        0, 0, 0, 0, 0, 1, 0, 0, 0, 0, 0, 0, 1, 0, 0, 1, 0, 0, 0, 0, 0, 0,\n",
       "        0, 0, 1, 0, 1, 0, 0, 0, 1, 0, 0, 0, 0, 0, 1, 1, 0, 0, 0, 1, 0, 0,\n",
       "        0, 1, 0, 0, 0],\n",
       "       [0, 0, 1, 0, 0, 0, 0, 0, 0, 0, 0, 0, 0, 0, 0, 0, 0, 1, 0, 1, 0, 0,\n",
       "        1, 0, 0, 1, 1, 0, 1, 0, 1, 0, 0, 1, 0, 0, 0, 0, 0, 0, 0, 1, 0, 0,\n",
       "        0, 0, 0, 1, 0, 0, 0, 0, 0, 0, 1, 0, 1, 0, 0, 0, 0, 0, 1, 0, 0, 0,\n",
       "        0, 1, 0, 0, 0]], dtype=int64)"
      ]
     },
     "execution_count": 28,
     "metadata": {},
     "output_type": "execute_result"
    }
   ],
   "source": [
    "#creating Bag of Words model\n",
    "\n",
    "from sklearn.feature_extraction.text import CountVectorizer\n",
    "cv = CountVectorizer()\n",
    "X = cv.fit_transform(corpus).toarray()\n",
    "X"
   ]
  },
  {
   "cell_type": "code",
   "execution_count": 29,
   "id": "5e530adf",
   "metadata": {},
   "outputs": [
    {
     "data": {
      "text/plain": [
       "(6, 71)"
      ]
     },
     "execution_count": 29,
     "metadata": {},
     "output_type": "execute_result"
    }
   ],
   "source": [
    "X.shape"
   ]
  },
  {
   "cell_type": "code",
   "execution_count": null,
   "id": "df80e182",
   "metadata": {},
   "outputs": [],
   "source": []
  }
 ],
 "metadata": {
  "kernelspec": {
   "display_name": "Python 3",
   "language": "python",
   "name": "python3"
  },
  "language_info": {
   "codemirror_mode": {
    "name": "ipython",
    "version": 3
   },
   "file_extension": ".py",
   "mimetype": "text/x-python",
   "name": "python",
   "nbconvert_exporter": "python",
   "pygments_lexer": "ipython3",
   "version": "3.8.8"
  }
 },
 "nbformat": 4,
 "nbformat_minor": 5
}
